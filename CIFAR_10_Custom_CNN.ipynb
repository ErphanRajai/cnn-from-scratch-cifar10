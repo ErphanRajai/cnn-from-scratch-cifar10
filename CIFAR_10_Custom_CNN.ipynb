{
  "cells": [
    {
      "cell_type": "markdown",
      "metadata": {
        "id": "A7wJ_TeU6zII"
      },
      "source": [
        "### Importing Libraries + Variables"
      ]
    },
    {
      "cell_type": "code",
      "execution_count": 1,
      "metadata": {
        "id": "EfPJAcU556T2",
        "colab": {
          "base_uri": "https://localhost:8080/"
        },
        "outputId": "a9d7d15b-d11c-43f8-885b-3d499e58cd79"
      },
      "outputs": [
        {
          "output_type": "stream",
          "name": "stdout",
          "text": [
            "Using cuda device\n"
          ]
        }
      ],
      "source": [
        "import torch\n",
        "import os\n",
        "from torch import nn\n",
        "from torch.utils.data import DataLoader\n",
        "from torchvision import transforms, datasets\n",
        "import matplotlib.pyplot as plt\n",
        "\n",
        "DEVICE = \"cuda\" if torch.cuda.is_available() else \"cpu\"\n",
        "NUM_WORKERS = int(os.cpu_count())\n",
        "BATCH_SIZE = 256\n",
        "MEAN = [0.485, 0.456, 0.406]\n",
        "STD = [0.229, 0.224, 0.225]\n",
        "EPOCHS = 100\n",
        "print(f\"Using {DEVICE} device\")"
      ]
    },
    {
      "cell_type": "markdown",
      "metadata": {
        "id": "se5ebUUbPNCQ"
      },
      "source": [
        "## Creating a Function to plot Loss Curves"
      ]
    },
    {
      "cell_type": "code",
      "execution_count": 2,
      "metadata": {
        "id": "c6pVBdGnPRQR"
      },
      "outputs": [],
      "source": [
        "import matplotlib.pyplot as plt\n",
        "\n",
        "def plot_metrics(history, title_suffix=\"\"):\n",
        "    epochs = range(1, len(history[\"train_loss\"]) + 1)\n",
        "\n",
        "    plt.figure(figsize=(12, 5))\n",
        "    plt.subplot(1, 2, 1)\n",
        "    plt.plot(epochs, history[\"train_loss\"], label=\"Train Loss\")\n",
        "    plt.plot(epochs, history[\"val_loss\"], label=\"Val Loss\")\n",
        "    plt.xlabel(\"Epoch\")\n",
        "    plt.ylabel(\"Loss\")\n",
        "    plt.title(f\"Loss per Epoch {title_suffix}\")\n",
        "    plt.legend()\n",
        "    plt.grid(True)\n",
        "\n",
        "    plt.subplot(1, 2, 2)\n",
        "    plt.plot(epochs, history[\"train_acc\"], label=\"Train Acc\")\n",
        "    plt.plot(epochs, history[\"val_acc\"], label=\"Val Acc\")\n",
        "    plt.xlabel(\"Epoch\")\n",
        "    plt.ylabel(\"Accuracy\")\n",
        "    plt.title(f\"Accuracy per Epoch {title_suffix}\")\n",
        "    plt.legend()\n",
        "    plt.grid(True)\n",
        "\n",
        "    plt.tight_layout()\n",
        "    plt.show()"
      ]
    },
    {
      "cell_type": "markdown",
      "metadata": {
        "id": "6-6tX3Gj7alS"
      },
      "source": [
        "## Creating Train and Test Transforms"
      ]
    },
    {
      "cell_type": "code",
      "execution_count": 3,
      "metadata": {
        "id": "sWxYEU7Y7Z11"
      },
      "outputs": [],
      "source": [
        "train_transforms = transforms.Compose([\n",
        "    transforms.Resize(size=(32, 32)),\n",
        "    transforms.RandomHorizontalFlip(p=0.5),\n",
        "    transforms.RandomVerticalFlip(p=0.5),\n",
        "    transforms.ToTensor(),\n",
        "    transforms.Normalize(mean=MEAN, std=STD)\n",
        "])\n",
        "\n",
        "tgt_transforms = transforms.Compose([\n",
        "    transforms.Resize(size=(32, 32)),\n",
        "    transforms.ToTensor(),\n",
        "    transforms.Normalize(mean=MEAN, std=STD)\n",
        "])"
      ]
    },
    {
      "cell_type": "markdown",
      "metadata": {
        "id": "oIBBixpQ63kX"
      },
      "source": [
        "### Downloading Our Dataset"
      ]
    },
    {
      "cell_type": "code",
      "execution_count": 4,
      "metadata": {
        "id": "UxEWp_I069Je",
        "colab": {
          "base_uri": "https://localhost:8080/"
        },
        "outputId": "eb2c3259-3b16-47b2-ab82-8100a92eb403"
      },
      "outputs": [
        {
          "output_type": "stream",
          "name": "stderr",
          "text": [
            "100%|██████████| 170M/170M [00:05<00:00, 33.3MB/s]\n"
          ]
        }
      ],
      "source": [
        "training_data = datasets.CIFAR10(root=\"data\",\n",
        "                                 train=True,\n",
        "                                 download=True,\n",
        "                                 transform = train_transforms)\n",
        "testing_data = datasets.CIFAR10(root=\"data\",\n",
        "                                train=False,\n",
        "                                download=True,\n",
        "                                transform = tgt_transforms)"
      ]
    },
    {
      "cell_type": "markdown",
      "metadata": {
        "id": "6SU_UYtk77gN"
      },
      "source": [
        "## Loading Our Dataset Into DataLoaders"
      ]
    },
    {
      "cell_type": "code",
      "execution_count": 5,
      "metadata": {
        "colab": {
          "base_uri": "https://localhost:8080/"
        },
        "id": "9wSmlQTz8D8v",
        "outputId": "96f7bd6f-fbaf-4287-e1b4-513621e8a7d0"
      },
      "outputs": [
        {
          "output_type": "stream",
          "name": "stdout",
          "text": [
            "Data loading and preparation complete!\n",
            "Number of training samples: 50000\n",
            "Number of testing samples: 10000\n",
            "Number of batches in train_dataloader: 196\n",
            "Number of batches in test_dataloader: 40\n"
          ]
        }
      ],
      "source": [
        "train_dataloader = DataLoader(training_data,\n",
        "                              batch_size = BATCH_SIZE,\n",
        "                              shuffle=True,\n",
        "                              num_workers=NUM_WORKERS)\n",
        "\n",
        "test_dataloader = DataLoader(testing_data,\n",
        "                             batch_size=BATCH_SIZE,\n",
        "                             shuffle=False,\n",
        "                             num_workers=NUM_WORKERS)\n",
        "\n",
        "print(\"Data loading and preparation complete!\")\n",
        "print(f\"Number of training samples: {len(training_data)}\")\n",
        "print(f\"Number of testing samples: {len(testing_data)}\")\n",
        "print(f\"Number of batches in train_dataloader: {len(train_dataloader)}\")\n",
        "print(f\"Number of batches in test_dataloader: {len(test_dataloader)}\")"
      ]
    },
    {
      "cell_type": "markdown",
      "metadata": {
        "id": "MFL4PPKl8tiU"
      },
      "source": [
        "## Visualizing a Random Image"
      ]
    },
    {
      "cell_type": "code",
      "execution_count": 6,
      "metadata": {
        "colab": {
          "base_uri": "https://localhost:8080/",
          "height": 446
        },
        "id": "hVOXoTnS80lr",
        "outputId": "053e00e2-8bd9-44e3-ed1a-a5f4b4f9ef0e"
      },
      "outputs": [
        {
          "output_type": "stream",
          "name": "stderr",
          "text": [
            "WARNING:matplotlib.image:Clipping input data to the valid range for imshow with RGB data ([0..1] for floats or [0..255] for integers). Got range [-1.9466565..2.5005665].\n"
          ]
        },
        {
          "output_type": "display_data",
          "data": {
            "text/plain": [
              "<Figure size 640x480 with 1 Axes>"
            ],
            "image/png": "[encoded data removed]"
          },
          "metadata": {}
        }
      ],
      "source": [
        "image_batch, label_batch = next(iter(train_dataloader))\n",
        "class_names = training_data.classes\n",
        "\n",
        "plt.imshow(image_batch[0].permute(1, 2, 0))\n",
        "plt.title(f\"Class Name : {class_names[label_batch[0]]}\")\n",
        "plt.axis(\"off\")\n",
        "plt.show()"
      ]
    },
    {
      "cell_type": "markdown",
      "metadata": {
        "id": "nUrK5lae9Y-k"
      },
      "source": [
        "## Creating Our Custom CNN Module"
      ]
    },
    {
      "cell_type": "code",
      "execution_count": 7,
      "metadata": {
        "colab": {
          "base_uri": "https://localhost:8080/"
        },
        "id": "K_hSFwKgAT4r",
        "outputId": "beaf3467-3389-4c22-83ed-3bc154f0934d"
      },
      "outputs": [
        {
          "output_type": "stream",
          "name": "stdout",
          "text": [
            "Calculated flattened size for nn.Linear: 2304\n",
            "\n",
            "Num parameters : 2333514\n"
          ]
        }
      ],
      "source": [
        "class SimpleCIFAR10(nn.Module):\n",
        "  def __init__(self, in_channels:int,base_channels: int, out_channels:int ):\n",
        "    super().__init__()\n",
        "    self.conv_layer_1 = nn.Sequential(\n",
        "        nn.Conv2d(in_channels=in_channels, out_channels=base_channels, kernel_size=3, stride=1),\n",
        "        nn.BatchNorm2d(num_features=base_channels),\n",
        "        nn.ReLU(),\n",
        "        nn.Conv2d(base_channels, base_channels, kernel_size=3, padding=1),\n",
        "        nn.BatchNorm2d(base_channels),\n",
        "        nn.ReLU(),\n",
        "        nn.MaxPool2d(kernel_size=2, stride=2),\n",
        "        nn.Dropout(0.3))\n",
        "\n",
        "    self.conv_layer_2 = nn.Sequential(\n",
        "            nn.Conv2d(base_channels, base_channels * 2, kernel_size=3, padding=1),\n",
        "            nn.BatchNorm2d(base_channels * 2),\n",
        "            nn.ReLU(),\n",
        "            nn.Conv2d(base_channels * 2, base_channels * 2, kernel_size=3, padding=1),\n",
        "            nn.BatchNorm2d(base_channels * 2),\n",
        "            nn.ReLU(),\n",
        "            nn.MaxPool2d(kernel_size=2, stride=2),\n",
        "            nn.Dropout(0.3))\n",
        "    self.conv_layer_3 = nn.Sequential(\n",
        "            nn.Conv2d(base_channels * 2, base_channels * 4, kernel_size=3, padding=1),\n",
        "            nn.BatchNorm2d(base_channels * 4),\n",
        "            nn.ReLU(),\n",
        "            nn.Conv2d(base_channels * 4, base_channels * 4, kernel_size=3, padding=1),\n",
        "            nn.BatchNorm2d(base_channels * 4),\n",
        "            nn.ReLU(),\n",
        "            nn.MaxPool2d(kernel_size=2, stride=2),\n",
        "            nn.Dropout(0.3))\n",
        "\n",
        "    # Calculate flattened size dynamically for 32x32 input\n",
        "    dummy_input = torch.randn(1, in_channels, 32, 32)\n",
        "    with torch.no_grad():\n",
        "        x = self.conv_layer_1(dummy_input)\n",
        "        x = self.conv_layer_2(x)\n",
        "        x = self.conv_layer_3(x)\n",
        "    flattened_size = x.numel()\n",
        "    print(f\"Calculated flattened size for nn.Linear: {flattened_size}\\n\") # This will change based on base_channels\n",
        "\n",
        "    self.classifier = nn.Sequential(\n",
        "            nn.Flatten(),\n",
        "            nn.Linear(in_features=flattened_size, out_features=512),\n",
        "            nn.BatchNorm1d(512), # BatchNorm for linear layers\n",
        "            nn.ReLU(),\n",
        "            nn.Dropout(0.6), # Higher dropout for linear layer\n",
        "            nn.Linear(in_features=512, out_features=out_channels)\n",
        "        )\n",
        "  def forward(self, x):\n",
        "      x = self.conv_layer_1(x)\n",
        "      x = self.conv_layer_2(x)\n",
        "      x = self.conv_layer_3(x)\n",
        "      return self.classifier(x)\n",
        "\n",
        "model = SimpleCIFAR10(3, 64, 10) # -> (Color_Channels, Base_Channels, Num_Classes)\n",
        "model.to(DEVICE)\n",
        "# Function to count model parameters\n",
        "def count_parameters(model):\n",
        "    return sum(p.numel() for p in model.parameters() if p.requires_grad)\n",
        "print(f\"Num parameters : {count_parameters(model)}\")"
      ]
    },
    {
      "cell_type": "markdown",
      "metadata": {
        "id": "OmYZJKogDy8M"
      },
      "source": [
        "## Create Train and Test Functions"
      ]
    },
    {
      "cell_type": "code",
      "execution_count": 12,
      "metadata": {
        "id": "Nl8zL20LEGBX"
      },
      "outputs": [],
      "source": [
        "def train_step(dataloader, model, loss_fn, optimizer):\n",
        "    model.train()\n",
        "    size = len(dataloader.dataset)\n",
        "    running_loss = 0.0\n",
        "    correct = 0\n",
        "\n",
        "    for X, y in dataloader:\n",
        "        X, y = X.to(DEVICE), y.to(DEVICE)\n",
        "\n",
        "\n",
        "        pred = model(X)\n",
        "        loss = loss_fn(pred, y)\n",
        "\n",
        "        optimizer.zero_grad()\n",
        "        loss.backward()\n",
        "        optimizer.step()\n",
        "\n",
        "        running_loss += loss.item()\n",
        "        correct += (pred.argmax(1) == y).type(torch.float).sum().item()\n",
        "\n",
        "    avg_loss = running_loss / len(dataloader)\n",
        "    acc = correct / size\n",
        "    print(f\"Train Loss: {avg_loss:.4f}, Accuracy: {100 * acc:.2f}%\")\n",
        "    return avg_loss, acc\n"
      ]
    },
    {
      "cell_type": "code",
      "execution_count": 13,
      "metadata": {
        "id": "FmmCod2bELMS"
      },
      "outputs": [],
      "source": [
        "def test_loop(dataloader, model, loss_fn):\n",
        "    model.eval()\n",
        "    size = len(dataloader.dataset)\n",
        "    test_loss = 0.0\n",
        "    correct = 0\n",
        "\n",
        "    with torch.no_grad():\n",
        "        for X, y in dataloader:\n",
        "            X, y = X.to(DEVICE), y.to(DEVICE)\n",
        "            pred = model(X)\n",
        "            loss = loss_fn(pred, y)\n",
        "            test_loss += loss.item()\n",
        "            correct += (pred.argmax(1) == y).type(torch.float).sum().item()\n",
        "\n",
        "    avg_loss = test_loss / len(dataloader)\n",
        "    acc = correct / size\n",
        "    print(f\"Val Loss: {avg_loss:.4f}, Accuracy: {100 * acc:.2f}%\")\n",
        "    return avg_loss, acc\n"
      ]
    },
    {
      "cell_type": "markdown",
      "metadata": {
        "id": "sE6j-r1fEP_Z"
      },
      "source": [
        "## Specify Our Loss Function and Optimizer"
      ]
    },
    {
      "cell_type": "code",
      "execution_count": 14,
      "metadata": {
        "id": "Ug82I3EtEXXc"
      },
      "outputs": [],
      "source": [
        "loss_fn = nn.CrossEntropyLoss()\n",
        "optimizer = torch.optim.Adam(model.parameters(), lr=0.001, weight_decay=1e-4)\n",
        "epochs = 50\n",
        "scheduler = torch.optim.lr_scheduler.CosineAnnealingLR(optimizer, T_max=epochs, eta_min=1e-6) # eta_min is min LR"
      ]
    },
    {
      "cell_type": "markdown",
      "metadata": {
        "id": "pzbwPNr8Ep66"
      },
      "source": [
        "## Training Our Model"
      ]
    },
    {
      "cell_type": "code",
      "execution_count": 15,
      "metadata": {
        "colab": {
          "base_uri": "https://localhost:8080/",
          "height": 1000
        },
        "id": "lgdI4UNmEujG",
        "outputId": "2f8d4e84-f002-4515-a639-4ecfe7562b5c"
      },
      "outputs": [
        {
          "output_type": "stream",
          "name": "stdout",
          "text": [
            "Epoch 1\n",
            "---------------------------------------\n",
            "Train Loss: 1.1247, Accuracy: 59.09%\n",
            "Val Loss: 1.0168, Accuracy: 63.28%\n",
            "✅ Best model saved! Accuracy: 0.63\n",
            "Epoch 2\n",
            "---------------------------------------\n",
            "Train Loss: 0.9302, Accuracy: 66.87%\n",
            "Val Loss: 0.8356, Accuracy: 70.08%\n",
            "✅ Best model saved! Accuracy: 0.70\n",
            "Epoch 3\n",
            "---------------------------------------\n",
            "Train Loss: 0.8421, Accuracy: 70.07%\n",
            "Val Loss: 0.9204, Accuracy: 66.92%\n",
            "Epoch 4\n",
            "---------------------------------------\n",
            "Train Loss: 0.7793, Accuracy: 72.41%\n",
            "Val Loss: 0.7226, Accuracy: 74.30%\n",
            "✅ Best model saved! Accuracy: 0.74\n",
            "Epoch 5\n",
            "---------------------------------------\n",
            "Train Loss: 0.7297, Accuracy: 74.03%\n",
            "Val Loss: 0.6873, Accuracy: 76.18%\n",
            "✅ Best model saved! Accuracy: 0.76\n",
            "Epoch 6\n",
            "---------------------------------------\n",
            "Train Loss: 0.6884, Accuracy: 75.74%\n",
            "Val Loss: 0.6368, Accuracy: 77.74%\n",
            "✅ Best model saved! Accuracy: 0.78\n",
            "Epoch 7\n",
            "---------------------------------------\n",
            "Train Loss: 0.6484, Accuracy: 77.29%\n",
            "Val Loss: 0.6093, Accuracy: 78.31%\n",
            "✅ Best model saved! Accuracy: 0.78\n",
            "Epoch 8\n",
            "---------------------------------------\n",
            "Train Loss: 0.6184, Accuracy: 78.52%\n",
            "Val Loss: 0.6202, Accuracy: 78.53%\n",
            "✅ Best model saved! Accuracy: 0.79\n",
            "Epoch 9\n",
            "---------------------------------------\n",
            "Train Loss: 0.5951, Accuracy: 79.26%\n",
            "Val Loss: 0.6535, Accuracy: 77.36%\n",
            "Epoch 10\n",
            "---------------------------------------\n",
            "Train Loss: 0.5660, Accuracy: 80.29%\n",
            "Val Loss: 0.5842, Accuracy: 79.61%\n",
            "✅ Best model saved! Accuracy: 0.80\n",
            "Epoch 11\n",
            "---------------------------------------\n",
            "Train Loss: 0.5430, Accuracy: 81.12%\n",
            "Val Loss: 0.5325, Accuracy: 81.41%\n",
            "✅ Best model saved! Accuracy: 0.81\n",
            "Epoch 12\n",
            "---------------------------------------\n",
            "Train Loss: 0.5288, Accuracy: 81.33%\n",
            "Val Loss: 0.5339, Accuracy: 82.13%\n",
            "✅ Best model saved! Accuracy: 0.82\n",
            "Epoch 13\n",
            "---------------------------------------\n",
            "Train Loss: 0.5091, Accuracy: 82.31%\n",
            "Val Loss: 0.5083, Accuracy: 82.67%\n",
            "✅ Best model saved! Accuracy: 0.83\n",
            "Epoch 14\n",
            "---------------------------------------\n",
            "Train Loss: 0.4927, Accuracy: 82.71%\n",
            "Val Loss: 0.5569, Accuracy: 81.68%\n",
            "Epoch 15\n",
            "---------------------------------------\n",
            "Train Loss: 0.4761, Accuracy: 83.38%\n",
            "Val Loss: 0.4828, Accuracy: 83.38%\n",
            "✅ Best model saved! Accuracy: 0.83\n",
            "Epoch 16\n",
            "---------------------------------------\n",
            "Train Loss: 0.4620, Accuracy: 83.93%\n",
            "Val Loss: 0.4663, Accuracy: 83.93%\n",
            "✅ Best model saved! Accuracy: 0.84\n",
            "Epoch 17\n",
            "---------------------------------------\n",
            "Train Loss: 0.4447, Accuracy: 84.66%\n",
            "Val Loss: 0.4669, Accuracy: 84.22%\n",
            "✅ Best model saved! Accuracy: 0.84\n",
            "Epoch 18\n",
            "---------------------------------------\n",
            "Train Loss: 0.4364, Accuracy: 84.87%\n",
            "Val Loss: 0.4886, Accuracy: 83.46%\n",
            "Epoch 19\n",
            "---------------------------------------\n",
            "Train Loss: 0.4213, Accuracy: 85.47%\n",
            "Val Loss: 0.4431, Accuracy: 85.28%\n",
            "✅ Best model saved! Accuracy: 0.85\n",
            "Epoch 20\n",
            "---------------------------------------\n",
            "Train Loss: 0.4022, Accuracy: 86.00%\n",
            "Val Loss: 0.4687, Accuracy: 83.99%\n",
            "Epoch 21\n",
            "---------------------------------------\n",
            "Train Loss: 0.3878, Accuracy: 86.37%\n",
            "Val Loss: 0.4137, Accuracy: 86.14%\n",
            "✅ Best model saved! Accuracy: 0.86\n",
            "Epoch 22\n",
            "---------------------------------------\n",
            "Train Loss: 0.3801, Accuracy: 86.70%\n",
            "Val Loss: 0.4591, Accuracy: 84.39%\n",
            "Epoch 23\n",
            "---------------------------------------\n",
            "Train Loss: 0.3710, Accuracy: 86.96%\n",
            "Val Loss: 0.4204, Accuracy: 85.73%\n",
            "Epoch 24\n",
            "---------------------------------------\n",
            "Train Loss: 0.3579, Accuracy: 87.51%\n",
            "Val Loss: 0.4168, Accuracy: 85.97%\n",
            "Epoch 25\n",
            "---------------------------------------\n",
            "Train Loss: 0.3546, Accuracy: 87.69%\n",
            "Val Loss: 0.3967, Accuracy: 86.73%\n",
            "✅ Best model saved! Accuracy: 0.87\n",
            "Epoch 26\n",
            "---------------------------------------\n",
            "Train Loss: 0.3376, Accuracy: 88.22%\n",
            "Val Loss: 0.4068, Accuracy: 86.32%\n",
            "Epoch 27\n",
            "---------------------------------------\n",
            "Train Loss: 0.3230, Accuracy: 88.62%\n",
            "Val Loss: 0.4018, Accuracy: 86.52%\n",
            "Epoch 28\n",
            "---------------------------------------\n",
            "Val Loss: 0.3902, Accuracy: 87.02%\n",
            "✅ Best model saved! Accuracy: 0.87\n",
            "Epoch 29\n",
            "---------------------------------------\n",
            "Train Loss: 0.3075, Accuracy: 89.17%\n",
            "Val Loss: 0.3923, Accuracy: 87.12%\n",
            "✅ Best model saved! Accuracy: 0.87\n",
            "Epoch 30\n",
            "---------------------------------------\n",
            "Train Loss: 0.2900, Accuracy: 89.84%\n",
            "Val Loss: 0.4108, Accuracy: 86.44%\n",
            "Epoch 31\n",
            "---------------------------------------\n",
            "Train Loss: 0.2868, Accuracy: 89.95%\n",
            "Val Loss: 0.3892, Accuracy: 87.30%\n",
            "✅ Best model saved! Accuracy: 0.87\n",
            "Epoch 32\n",
            "---------------------------------------\n",
            "Train Loss: 0.2781, Accuracy: 90.27%\n",
            "Val Loss: 0.3903, Accuracy: 87.21%\n",
            "Epoch 33\n",
            "---------------------------------------\n",
            "Train Loss: 0.2638, Accuracy: 90.70%\n",
            "Val Loss: 0.3623, Accuracy: 87.97%\n",
            "✅ Best model saved! Accuracy: 0.88\n",
            "Epoch 34\n",
            "---------------------------------------\n",
            "Train Loss: 0.2565, Accuracy: 91.05%\n",
            "Val Loss: 0.3612, Accuracy: 88.33%\n",
            "✅ Best model saved! Accuracy: 0.88\n",
            "Epoch 35\n",
            "---------------------------------------\n",
            "Val Loss: 0.3618, Accuracy: 88.32%\n",
            "Epoch 36\n",
            "---------------------------------------\n",
            "Train Loss: 0.2383, Accuracy: 91.71%\n",
            "Val Loss: 0.3582, Accuracy: 88.19%\n",
            "Epoch 37\n",
            "---------------------------------------\n",
            "Train Loss: 0.2305, Accuracy: 91.91%\n",
            "Val Loss: 0.3528, Accuracy: 88.71%\n",
            "✅ Best model saved! Accuracy: 0.89\n",
            "Epoch 38\n",
            "---------------------------------------\n",
            "Train Loss: 0.2284, Accuracy: 92.00%\n",
            "Val Loss: 0.3429, Accuracy: 88.98%\n",
            "✅ Best model saved! Accuracy: 0.89\n",
            "Epoch 39\n",
            "---------------------------------------\n",
            "Train Loss: 0.2158, Accuracy: 92.44%\n",
            "Val Loss: 0.3496, Accuracy: 88.57%\n",
            "Epoch 40\n",
            "---------------------------------------\n",
            "Train Loss: 0.2085, Accuracy: 92.69%\n",
            "Val Loss: 0.3471, Accuracy: 88.77%\n",
            "Epoch 41\n",
            "---------------------------------------\n",
            "Train Loss: 0.2065, Accuracy: 92.73%\n",
            "Val Loss: 0.3471, Accuracy: 88.81%\n",
            "Epoch 42\n",
            "---------------------------------------\n",
            "Train Loss: 0.2034, Accuracy: 92.95%\n",
            "Val Loss: 0.3489, Accuracy: 88.76%\n",
            "Epoch 43\n",
            "---------------------------------------\n",
            "Train Loss: 0.1958, Accuracy: 93.27%\n",
            "Val Loss: 0.3410, Accuracy: 89.02%\n",
            "✅ Best model saved! Accuracy: 0.89\n",
            "Epoch 44\n",
            "---------------------------------------\n",
            "Train Loss: 0.1912, Accuracy: 93.30%\n",
            "Val Loss: 0.3406, Accuracy: 89.05%\n",
            "✅ Best model saved! Accuracy: 0.89\n",
            "Epoch 45\n",
            "---------------------------------------\n",
            "Train Loss: 0.1909, Accuracy: 93.28%\n",
            "Val Loss: 0.3405, Accuracy: 89.07%\n",
            "✅ Best model saved! Accuracy: 0.89\n",
            "Epoch 46\n",
            "---------------------------------------\n",
            "Train Loss: 0.1899, Accuracy: 93.32%\n",
            "Val Loss: 0.3415, Accuracy: 89.11%\n",
            "✅ Best model saved! Accuracy: 0.89\n",
            "Epoch 47\n",
            "---------------------------------------\n",
            "Train Loss: 0.1866, Accuracy: 93.42%\n",
            "Val Loss: 0.3405, Accuracy: 89.28%\n",
            "✅ Best model saved! Accuracy: 0.89\n",
            "Epoch 48\n",
            "---------------------------------------\n",
            "Train Loss: 0.1865, Accuracy: 93.44%\n",
            "Val Loss: 0.3396, Accuracy: 89.23%\n",
            "Epoch 49\n",
            "---------------------------------------\n",
            "Train Loss: 0.1854, Accuracy: 93.59%\n",
            "Val Loss: 0.3391, Accuracy: 89.26%\n",
            "Epoch 50\n",
            "---------------------------------------\n",
            "Train Loss: 0.1862, Accuracy: 93.53%\n",
            "Val Loss: 0.3364, Accuracy: 89.26%\n"
          ]
        },
        {
          "output_type": "display_data",
          "data": {
            "text/plain": [
              "<Figure size 1200x500 with 2 Axes>"
            ],
            "image/png": "[encoded data removed]"
          },
          "metadata": {}
        }
      ],
      "source": [
        "history = {\n",
        "    \"train_loss\": [],\n",
        "    \"val_loss\": [],\n",
        "    \"train_acc\": [],\n",
        "    \"val_acc\": []\n",
        "}\n",
        "\n",
        "best_val_acc = 0.0\n",
        "for t in range(epochs):\n",
        "    print(f\"Epoch {t+1}\\n---------------------------------------\")\n",
        "    train_loss, train_acc = train_step(train_dataloader, model=model, loss_fn=loss_fn, optimizer=optimizer)\n",
        "    val_loss, val_acc = test_loop(test_dataloader, model=model, loss_fn=loss_fn)\n",
        "\n",
        "    history[\"train_loss\"].append(train_loss)\n",
        "    history[\"val_loss\"].append(val_loss)\n",
        "    history[\"train_acc\"].append(train_acc)\n",
        "    history[\"val_acc\"].append(val_acc)\n",
        "\n",
        "    if val_acc > best_val_acc:\n",
        "        best_val_acc = val_acc\n",
        "        torch.save(model.state_dict(), \"best_model.pth\")\n",
        "        print(f\"✅ Best model saved! Accuracy: {best_val_acc:.2f}\")\n",
        "\n",
        "    scheduler.step()\n",
        "\n",
        "plot_metrics(history, title_suffix=\" (Custom CNN on CIFAR-10)\")"
      ]
    },
    {
      "cell_type": "code",
      "source": [],
      "metadata": {
        "id": "rA5IjBhszn1p"
      },
      "execution_count": null,
      "outputs": []
    }
  ],
  "metadata": {
    "colab": {
      "provenance": [],
      "gpuType": "T4"
    },
    "kernelspec": {
      "display_name": "Python 3",
      "name": "python3"
    },
    "language_info": {
      "name": "python"
    },
    "accelerator": "GPU"
  },
  "nbformat": 4,
  "nbformat_minor": 0
}